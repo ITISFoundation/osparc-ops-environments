{
 "cells": [
  {
   "cell_type": "markdown",
   "metadata": {},
   "source": [
    "# Administration: Mirror groups of user"
   ]
  },
  {
   "cell_type": "markdown",
   "metadata": {},
   "source": [
    "New users are not part of any group. This scripts adds a new user \"NEWUSER\" to the same groups as\n",
    "another (existing) user \"TEMPLATEUSER\""
   ]
  },
  {
   "cell_type": "markdown",
   "metadata": {},
   "source": [
    "### Static configuration variables"
   ]
  },
  {
   "cell_type": "code",
   "execution_count": null,
   "metadata": {},
   "outputs": [],
   "source": [
    "osparcURL = 'https://' + os.environ.get('MACHINE_FQDN')\n",
    "newUserMail = \"kaiser@itis.swiss\"\n",
    "templateUserMail = \"zhuang@itis.swiss\""
   ]
  },
  {
   "cell_type": "markdown",
   "metadata": {},
   "source": [
    "## Clone oSparc Repo and install python dependencies"
   ]
  },
  {
   "cell_type": "code",
   "execution_count": null,
   "metadata": {},
   "outputs": [],
   "source": [
    "print(\"FYI: You can ignore even fatal errors in this section....\")\n",
    "!git clone https://github.com/ITISFoundation/osparc-simcore.git\n",
    "!python -m pip install sqlalchemy\n",
    "!python -m pip install psycopg2-binary"
   ]
  },
  {
   "cell_type": "markdown",
   "metadata": {},
   "source": [
    "## Fetching Information"
   ]
  },
  {
   "cell_type": "markdown",
   "metadata": {},
   "source": [
    "### Fetching Information: pgSQL Database - Get userID of templateUser"
   ]
  },
  {
   "cell_type": "code",
   "execution_count": null,
   "metadata": {},
   "outputs": [],
   "source": [
    "import sqlalchemy as db\n",
    "import psycopg2\n",
    "import os\n",
    "import json\n",
    "import copy\n",
    "#######################\n",
    "PG_PASSWORD = os.environ.get('POSTGRES_PASSWORD')\n",
    "PG_ENDPOINT=os.environ.get('POSTGRES_ENDPOINT')\n",
    "PG_DB=os.environ.get('POSTGRES_DB')\n",
    "PG_USER=os.environ.get('POSTGRES_USER')\n",
    "pgEngineURL= \"postgresql://{user}:{password}@{host}:{port}/{database}\".format(\n",
    "        user=PG_USER,\n",
    "        password=PG_PASSWORD,\n",
    "        database=PG_DB,\n",
    "        host=PG_ENDPOINT.split(\":\")[0],\n",
    "        port=int(PG_ENDPOINT.split(\":\")[1]),\n",
    "    )\n",
    "engine = db.create_engine(pgEngineURL)\n",
    "connection = engine.connect()\n",
    "metadata = db.MetaData()\n",
    "users = db.Table('users', metadata, autoload=True, autoload_with=engine)\n",
    "##########\n",
    "# Automatically building datestamp iterator for current invite:\n",
    "query = db.select([users]).where(users.c.email.like(\"%\" + templateUserMail + \"%\"))\n",
    "ResultProxy = connection.execute(query)\n",
    "ResultSet = ResultProxy.fetchall()\n",
    "print(\"UserID of template user: \",ResultSet[0][0])\n",
    "templateUserID = copy.deepcopy(ResultSet[0][0])\n",
    "query = db.select([users]).where(users.c.email.like(\"%\" + newUserMail + \"%\"))\n",
    "ResultProxy = connection.execute(query)\n",
    "ResultSet = ResultProxy.fetchall()\n",
    "print(\"UserID of new user: \",ResultSet[0][0])\n",
    "newUserID = copy.deepcopy(ResultSet[0][0])"
   ]
  },
  {
   "cell_type": "code",
   "execution_count": null,
   "metadata": {},
   "outputs": [],
   "source": [
    "user2groups = db.Table('user_to_groups', metadata, autoload=True, autoload_with=engine)\n",
    "queryNewUser = db.select([user2groups]).where(user2groups.c.uid == newUserID)\n",
    "ResultProxy = connection.execute(queryNewUser)\n",
    "ResultSetUser2Groups = ResultProxy.fetchall()\n",
    "listGroupsAlreadyMember = [q[1] for q in ResultSetUser2Groups]\n",
    "queryTemplateUser = db.select([user2groups]).where(user2groups.c.uid == templateUserID)\n",
    "ResultProxy = connection.execute(queryTemplateUser)\n",
    "ResultSetUser2Groups = ResultProxy.fetchall()\n",
    "#####\n",
    "groupIDsToBeAdded = []\n",
    "for i, group in enumerate(ResultSetUser2Groups):\n",
    "    groupsTable = db.Table('groups', metadata, autoload=True, autoload_with=engine)\n",
    "    queryGroups = db.select([groupsTable]).where(db.and_(groupsTable.c.gid == group[1], groupsTable.c.type != \"PRIMARY\", groupsTable.c.type != \"EVERYONE\"))\n",
    "    ResultProxyGroups = connection.execute(queryGroups)\n",
    "    ResultSetGroups = ResultProxyGroups.fetchall()\n",
    "    if len(ResultSetGroups) == 1:\n",
    "        if ResultSetGroups[0][0] not in listGroupsAlreadyMember:\n",
    "            print(ResultSetGroups[0][:3])\n",
    "            groupIDsToBeAdded.append(group)\n",
    "        else:\n",
    "            print(ResultSetGroups[0][:3], \" - User is already member, skipping...\")"
   ]
  },
  {
   "cell_type": "markdown",
   "metadata": {},
   "source": [
    "### ---> Please confirm that you want to add the NEWUSER to the groups printed above before procedeeding"
   ]
  },
  {
   "cell_type": "markdown",
   "metadata": {},
   "source": [
    "## Modifying Database: Add user to groups"
   ]
  },
  {
   "cell_type": "code",
   "execution_count": null,
   "metadata": {},
   "outputs": [],
   "source": [
    "print(\"User with ID \",newUserID, \" will be added to \", len(groupIDsToBeAdded), \" groups in total.\")"
   ]
  },
  {
   "cell_type": "code",
   "execution_count": null,
   "metadata": {},
   "outputs": [],
   "source": [
    "#Inserting new record into database\n",
    "import datetime\n",
    "dateTimeObj = datetime.datetime.now()\n",
    "for i in groupIDsToBeAdded:\n",
    "    print(\"Adding user \", newUserID, \"to group \", i[1], \" with rights \", i[4])\n",
    "    query = db.insert(user2groups).values(uid=newUserID, gid=i[1], created=dateTimeObj, modified=dateTimeObj,access_rights=i[4]) \n",
    "    ResultProxy = connection.execute(query)"
   ]
  }
 ],
 "metadata": {
  "kernelspec": {
   "display_name": "",
   "language": "python",
   "name": ""
  },
  "language_info": {
   "codemirror_mode": {
    "name": "ipython",
    "version": 3
   },
   "file_extension": ".py",
   "mimetype": "text/x-python",
   "name": "python",
   "nbconvert_exporter": "python",
   "pygments_lexer": "ipython3",
   "version": "3.9.13"
  },
  "vscode": {
   "interpreter": {
    "hash": "ebb6b63aab8ec4979e521bd28b1d3b4b2d7c802a1bf05024bab6e8eba400a1f6"
   }
  }
 },
 "nbformat": 4,
 "nbformat_minor": 4
}
