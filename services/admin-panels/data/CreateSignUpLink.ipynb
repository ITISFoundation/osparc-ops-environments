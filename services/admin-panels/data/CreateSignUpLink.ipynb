{
 "cells": [
  {
   "cell_type": "markdown",
   "metadata": {},
   "source": [
    "# Administration: Create sign-up-link\n",
    "\n"
   ]
  },
  {
   "cell_type": "markdown",
   "metadata": {},
   "source": [
    "NOTE: This adheres to the scheme in\n",
    "`osparc-simcore/scripts/demo/templates/invitation-codes-{{ deploy  }}-{{ datestamp }}.md.jinja2`"
   ]
  },
  {
   "cell_type": "markdown",
   "metadata": {},
   "source": [
    "## Config: Endpoints and Credentials"
   ]
  },
  {
   "cell_type": "code",
   "execution_count": null,
   "metadata": {},
   "outputs": [],
   "source": [
    "numberOfInvitationLinks = 1"
   ]
  },
  {
   "cell_type": "markdown",
   "metadata": {},
   "source": [
    "### Static configuration variables"
   ]
  },
  {
   "cell_type": "code",
   "execution_count": null,
   "metadata": {},
   "outputs": [],
   "source": [
    "import os\n",
    "osparcURL = 'https://' + os.environ.get('MACHINE_FQDN')\n",
    "length_of_invitation_code_characters = 30\n",
    "invitationAction = \"INVITATION\"\n",
    "invitationIssuer = os.environ.get('SMTP_USERNAME') + \"@\" + os.environ.get('SMTP_HOST')"
   ]
  },
  {
   "cell_type": "markdown",
   "metadata": {},
   "source": [
    "### Login Credentials of invitation creator (you)"
   ]
  },
  {
   "cell_type": "code",
   "execution_count": null,
   "metadata": {},
   "outputs": [],
   "source": [
    "#######################\n",
    "currentUsername = ''\n",
    "currentPassword = ''"
   ]
  },
  {
   "cell_type": "markdown",
   "metadata": {},
   "source": [
    "## Clone oSparc Repo and install python dependencies"
   ]
  },
  {
   "cell_type": "code",
   "execution_count": null,
   "metadata": {},
   "outputs": [],
   "source": [
    "#%%capture\n",
    "import sys\n",
    "print(\"FYI: You can ignore even fatal errors in this section....\")\n",
    "!python3 -m pip install requests\n",
    "!python3 -m pip install sqlalchemy\n",
    "!python3 -m pip install psycopg2-binary"
   ]
  },
  {
   "cell_type": "markdown",
   "metadata": {},
   "source": [
    "### Authentication with oSPARC"
   ]
  },
  {
   "cell_type": "code",
   "execution_count": null,
   "metadata": {},
   "outputs": [],
   "source": [
    "import requests\n",
    "import json\n",
    "#######################\n",
    "print(\"Logging in...\")\n",
    "s = requests.Session()\n",
    "data = {\n",
    "  \"email\": currentUsername,\n",
    "  \"password\": currentPassword\n",
    "}\n",
    "headers = {'Content-type': 'application/json', 'Accept': 'text/plain'}\n",
    "r = s.post(osparcURL + \"/v0/auth/login\", data=json.dumps(data),headers=headers)\n",
    "if r.status_code == 200:\n",
    "    print(\"Success!\")\n",
    "else:\n",
    "    raise ValueError(\"Authentication failed!\")"
   ]
  },
  {
   "cell_type": "markdown",
   "metadata": {},
   "source": [
    "## Fetching Information"
   ]
  },
  {
   "cell_type": "markdown",
   "metadata": {},
   "source": [
    "### Fetching Information: oSPARC REST API"
   ]
  },
  {
   "cell_type": "code",
   "execution_count": null,
   "metadata": {},
   "outputs": [],
   "source": [
    "import random\n",
    "import string\n",
    "import datetime\n",
    "import sqlalchemy as db\n",
    "import psycopg2\n",
    "import os\n",
    "import sys\n",
    "import json\n",
    "import importlib\n",
    "from pathlib import Path\n",
    "#######################\n",
    "def createInvitationLink(r):\n",
    "    r = s.get(osparcURL + \"/v0/me\")\n",
    "    userID = int(r.json()['data']['id'])\n",
    "    #print(\"UserID of invitation creator:\",userID)\n",
    "    random_string = \"\".join(random.choice(string.ascii_letters + string.digits) for i in range(length_of_invitation_code_characters))\n",
    "    #print(\"Invitation random key:\",random_string)\n",
    "    dateTimeObj = datetime.datetime.now()\n",
    "    timestampStr = dateTimeObj.strftime(\"%Y%m%d\")\n",
    "    #print(\"Invitation datestamp:\",timestampStr)\n",
    "                             \n",
    "    #########################################\n",
    "    #######################\n",
    "    PG_PASSWORD = os.environ.get('POSTGRES_PASSWORD')\n",
    "    PG_ENDPOINT=os.environ.get('POSTGRES_ENDPOINT')\n",
    "    PG_DB=os.environ.get('POSTGRES_DB')\n",
    "    PG_USER=os.environ.get('POSTGRES_USER')\n",
    "    pgEngineURL= \"postgresql://{user}:{password}@{host}:{port}/{database}\".format(\n",
    "            user=PG_USER,\n",
    "            password=PG_PASSWORD,\n",
    "            database=PG_DB,\n",
    "            host=PG_ENDPOINT.split(\":\")[0],\n",
    "            port=int(PG_ENDPOINT.split(\":\")[1]),\n",
    "        )\n",
    "    engine = db.create_engine(pgEngineURL)\n",
    "    connection = engine.connect()\n",
    "    metadata = db.MetaData()\n",
    "    confirmations = db.Table('confirmations', metadata, autoload=True, autoload_with=engine)\n",
    "    ##########\n",
    "    # Automatically building datestamp iterator for current invite:\n",
    "    query = db.select([confirmations]).where(confirmations.c.data.like(\"%\" + timestampStr + \"%\"))\n",
    "    ResultProxy = connection.execute(query)\n",
    "    ResultSet = ResultProxy.fetchall()\n",
    "    dataTimestamp = timestampStr + \"-\" + str(len(ResultSet) + 1)\n",
    "    dataObj = json.dumps({\"guest\":\"invitation-\" + dataTimestamp, \"issuer\":invitationIssuer},indent=2)\n",
    "    #Inserting new record into database\n",
    "    query = db.insert(confirmations).values(code=random_string, user_id=userID, action=invitationAction, data=dataObj,created_at=dateTimeObj) \n",
    "    ResultProxy = connection.execute(query)\n",
    "    print(\"INVITATION LINK:\",osparcURL + \"/#/registration/?invitation=\" + random_string)\n",
    "    return osparcURL + \"/#/registration/?invitation=\" + random_string"
   ]
  },
  {
   "cell_type": "markdown",
   "metadata": {},
   "source": [
    "### Create Invitation Links"
   ]
  },
  {
   "cell_type": "code",
   "execution_count": null,
   "metadata": {},
   "outputs": [],
   "source": [
    "listOfInvitations = []\n",
    "for i in range(numberOfInvitationLinks):\n",
    "    listOfInvitations.append(createInvitationLink(r))"
   ]
  }
 ],
 "metadata": {
  "kernelspec": {
   "display_name": "",
   "language": "python",
   "name": ""
  },
  "language_info": {
   "codemirror_mode": {
    "name": "ipython",
    "version": 3
   },
   "file_extension": ".py",
   "mimetype": "text/x-python",
   "name": "python",
   "nbconvert_exporter": "python",
   "pygments_lexer": "ipython3",
   "version": "3.10.5"
  },
  "vscode": {
   "interpreter": {
    "hash": "ebb6b63aab8ec4979e521bd28b1d3b4b2d7c802a1bf05024bab6e8eba400a1f6"
   }
  }
 },
 "nbformat": 4,
 "nbformat_minor": 4
}
