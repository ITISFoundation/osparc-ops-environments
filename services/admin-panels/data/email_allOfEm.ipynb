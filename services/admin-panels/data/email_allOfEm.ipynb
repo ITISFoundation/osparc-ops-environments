{
 "cells": [
  {
   "cell_type": "markdown",
   "id": "2911292d",
   "metadata": {},
   "source": [
    "# Tool for Sending Logged-in Users a Reminder to Log Out for Maintenance"
   ]
  },
  {
   "cell_type": "code",
   "execution_count": null,
   "id": "f943d788",
   "metadata": {},
   "outputs": [],
   "source": [
    "%%capture\n",
    "import sys\n",
    "import os\n",
    "\n",
    "!git clone https://github.com/ITISFoundation/osparc-simcore.git\n",
    "    \n",
    "# Weird call to pip as suggested by PCR via akevdp.github.io/blog/2017/12/05/installing-python-packages-from-jupyter/#How-to-use-Pip-from-the-Jupyter-Notebook\n",
    "!{sys.executable} -m pip install sqlalchemy\n",
    "!{sys.executable} -m pip install pytz\n",
    "!{sys.executable} -m pip install psycopg2-binary\n",
    "!{sys.executable} -m pip install secure-smtplib \n",
    "\n",
    "import datetime\n",
    "import pytz\n",
    "from pytz import timezone\n",
    "zurichTZ = timezone('Europe/Zurich')\n",
    "from dateutil.relativedelta import relativedelta"
   ]
  },
  {
   "cell_type": "markdown",
   "id": "aacf874e",
   "metadata": {},
   "source": [
    "## Provide datetime of maintenance and excluded users"
   ]
  },
  {
   "cell_type": "code",
   "execution_count": null,
   "id": "2e562d8c",
   "metadata": {},
   "outputs": [],
   "source": [
    "# A list of user IDs you would like to send emails to - these can be found from redis commander\n",
    "excluded_users = [\"kuster@itis.swiss\", \"@itis.testing\"] # can be only aprt of a mail address \n",
    "\n",
    "# Provide the time of maintenance\n",
    "# datetime(year, month, day, hour, minute, second)\n",
    "maintenance_time = datetime.datetime(2022, 8, 15, 17, 15, 0, tzinfo=zurichTZ)\n",
    "\n",
    "productString = \"o²S²PARC / S4L-Web / TI-Planning\"\n"
   ]
  },
  {
   "cell_type": "code",
   "execution_count": null,
   "id": "ff5019bf",
   "metadata": {},
   "outputs": [],
   "source": [
    "deploymentString = os.environ.get('DEPLOYMENT_FQDNS')\n",
    "# Compute timing inforation\n",
    "utc = pytz.timezone('UTC')\n",
    "now = utc.localize(datetime.datetime.utcnow())\n",
    "attrs = ['years', 'months', 'days', 'hours', 'minutes', 'seconds']\n",
    "human_readable = lambda delta: ['%d %s' % (getattr(delta, attr), attr if getattr(delta, attr) > 1 else attr[:-1]) for attr in attrs if getattr(delta, attr)]\n",
    "assert(maintenance_time > now)\n",
    "timeDiff = human_readable(relativedelta(seconds=(int(maintenance_time.strftime('%s')) - int(now.strftime('%s')))))\n",
    "maintenanceInStr = \" \".join(timeDiff[:2])\n",
    "print(\"Maintenance in: \",maintenanceInStr)\n",
    "maintenance_timeStr = maintenance_time.strftime('%H:%M')\n",
    "print(\"Maintenance at: \",maintenance_timeStr)\n",
    "maintenance_dateStr = maintenance_time.strftime('%A %d. %B %Y')\n",
    "print(\"Maintenance on: \",maintenance_dateStr)"
   ]
  },
  {
   "cell_type": "markdown",
   "id": "15fdd6b5",
   "metadata": {},
   "source": [
    "## Access the Database to Find Names and Emails"
   ]
  },
  {
   "cell_type": "code",
   "execution_count": null,
   "id": "33aa4331",
   "metadata": {},
   "outputs": [],
   "source": [
    "import sqlalchemy as db\n",
    "import psycopg2\n",
    "import os\n",
    "import sys\n",
    "import json\n",
    "import importlib\n",
    "from pathlib import Path\n",
    "#########################################\n",
    "#######################\n",
    "PG_PASSWORD = os.environ.get('POSTGRES_PASSWORD')\n",
    "PG_ENDPOINT=os.environ.get('POSTGRES_ENDPOINT')\n",
    "PG_DB=os.environ.get('POSTGRES_DB')\n",
    "PG_USER=os.environ.get('POSTGRES_USER')\n",
    "pgEngineURL= \"postgresql://{user}:{password}@{host}:{port}/{database}\".format(\n",
    "        user=PG_USER,\n",
    "        password=PG_PASSWORD,\n",
    "        database=PG_DB,\n",
    "        host=PG_ENDPOINT.split(\":\")[0],\n",
    "        port=int(PG_ENDPOINT.split(\":\")[1]),\n",
    "    )\n",
    "engine = db.create_engine(pgEngineURL)\n",
    "connection = engine.connect()\n",
    "metadata = db.MetaData()\n",
    "user_table = db.Table('users', metadata, autoload=True, autoload_with=engine)"
   ]
  },
  {
   "cell_type": "markdown",
   "id": "243a2328",
   "metadata": {},
   "source": [
    "## Find These Users"
   ]
  },
  {
   "cell_type": "code",
   "execution_count": null,
   "id": "83e445c6",
   "metadata": {},
   "outputs": [],
   "source": [
    "name_list = []\n",
    "email_list = []\n",
    "\n",
    "query = db.select([user_table.c.name, user_table.c.email])\n",
    "result_proxy = connection.execute(query)\n",
    "result_set = result_proxy.fetchall()\n",
    "\n",
    "if result_set:\n",
    "    for i in result_set:\n",
    "        userIsExcluded = False\n",
    "        for excluded_mail in excluded_users:\n",
    "            if excluded_mail in i[1]:\n",
    "                userIsExcluded = True\n",
    "                break\n",
    "        if not userIsExcluded:\n",
    "            name_list.append(i[0])\n",
    "            email_list.append(i[1])\n",
    "else:\n",
    "    print(\"Querry to DB failed\")\n"
   ]
  },
  {
   "cell_type": "markdown",
   "id": "a2f0a769",
   "metadata": {},
   "source": [
    "## Log into Mail Server to Send Emails"
   ]
  },
  {
   "cell_type": "code",
   "execution_count": null,
   "id": "a57cd223",
   "metadata": {},
   "outputs": [],
   "source": [
    "## =======  For debugging =======\n",
    "if False:\n",
    "    name_list = [\"Dustin\"]\n",
    "    email_list = [\"kaiser@itis.swiss\"]"
   ]
  },
  {
   "cell_type": "code",
   "execution_count": null,
   "id": "5abe1628",
   "metadata": {},
   "outputs": [],
   "source": [
    "SMTP_HOST = os.environ.get('SMTP_HOST')\n",
    "SMTP_PORT = os.environ.get('SMTP_PORT')\n",
    "SMTP_USERNAME = os.environ.get('SMTP_USERNAME')\n",
    "SMTP_PASSWORD =  os.environ.get('SMTP_PASSWORD')"
   ]
  },
  {
   "cell_type": "markdown",
   "id": "0738dd02",
   "metadata": {},
   "source": [
    "## Send a Nice Email to Everyone Logged In"
   ]
  },
  {
   "cell_type": "code",
   "execution_count": null,
   "id": "0957d3a9",
   "metadata": {},
   "outputs": [],
   "source": [
    "print(\"You are about to send emails to: \")\n",
    "print('\\n'.join(email_list))\n",
    "print(\"\\nPlease be sure before continuing...\")"
   ]
  },
  {
   "cell_type": "code",
   "execution_count": null,
   "id": "4a481b57",
   "metadata": {},
   "outputs": [],
   "source": [
    "import smtplib, ssl\n",
    "\n",
    "context = ssl.create_default_context()\n",
    "with smtplib.SMTP(SMTP_HOST, SMTP_PORT) as server:\n",
    "    server.ehlo()  # Can be omitted\n",
    "    server.starttls(context=context)\n",
    "    server.ehlo()  # Can be omitted\n",
    "    server.login(SMTP_USERNAME, SMTP_PASSWORD)\n",
    "    for name, email in zip(name_list, email_list):\n",
    "        message = \"\"\"Subject: \"\"\" + productString + \"\"\" Maintenance Warning\n",
    "\n",
    "\\nHi \"\"\" + name + \"\"\", \\n\n",
    "You are registered with an account on: \"\"\" + str(deploymentString) +\"\"\".\n",
    "\n",
    "Please be warned that we will be doing a routine maintenance on these platforms on \"\"\" + str(maintenance_dateStr) + \"\"\" at \"\"\" + str(maintenance_timeStr) + \"\"\", Europe/Zurich timezone. To keep your work safe, we recommend\n",
    "that you close your studies and log out before the maintenance begins. Apologies for any inconvenience.\n",
    "\n",
    "Cheers,\n",
    "your friendly \"\"\" + productString + \"\"\" team\"\"\"\n",
    "\n",
    "        server.sendmail(SMTP_USERNAME, email, message.encode('utf-8'))"
   ]
  },
  {
   "cell_type": "code",
   "execution_count": null,
   "id": "88d22724",
   "metadata": {},
   "outputs": [],
   "source": []
  }
 ],
 "metadata": {
  "kernelspec": {
   "display_name": "",
   "language": "python",
   "name": ""
  },
  "language_info": {
   "codemirror_mode": {
    "name": "ipython",
    "version": 3
   },
   "file_extension": ".py",
   "mimetype": "text/x-python",
   "name": "python",
   "nbconvert_exporter": "python",
   "pygments_lexer": "ipython3",
   "version": "3.9.13"
  },
  "vscode": {
   "interpreter": {
    "hash": "ebb6b63aab8ec4979e521bd28b1d3b4b2d7c802a1bf05024bab6e8eba400a1f6"
   }
  }
 },
 "nbformat": 4,
 "nbformat_minor": 5
}
