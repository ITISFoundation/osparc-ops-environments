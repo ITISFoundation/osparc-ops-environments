{
 "cells": [
  {
   "cell_type": "markdown",
   "metadata": {},
   "source": [
    "# Administration: List projects ordered by size"
   ]
  },
  {
   "cell_type": "markdown",
   "metadata": {},
   "source": [
    "## Clone oSparc Repo and install python dependencies"
   ]
  },
  {
   "cell_type": "markdown",
   "metadata": {},
   "source": [
    "FYI: Output is supressed here for better readability. To debug, remove the '%%capture' at the end of the lines."
   ]
  },
  {
   "cell_type": "code",
   "execution_count": null,
   "metadata": {
    "tags": []
   },
   "outputs": [],
   "source": [
    "%%capture\n",
    "!git clone https://github.com/ITISFoundation/osparc-simcore.git\n",
    "!python -m pip install requests\n",
    "!python -m pip install sqlalchemy\n",
    "!python -m pip install \n",
    "!python -m pip install boto3\n",
    "!python -m pip install tqdm\n",
    "!cd osparc-simcore/packages/postgres-database && pip install ."
   ]
  },
  {
   "cell_type": "markdown",
   "metadata": {},
   "source": [
    "## Config: Endpoints and Credentials"
   ]
  },
  {
   "cell_type": "markdown",
   "metadata": {},
   "source": [
    "### PG config variables"
   ]
  },
  {
   "cell_type": "code",
   "execution_count": null,
   "metadata": {},
   "outputs": [],
   "source": [
    "PG_PASSWORD = 'testertester'\n",
    "PG_ENDPOINT='postgres.osparc.test:5432'\n",
    "PG_DB='simcoredb'\n",
    "PG_USER='postgres_osparc'"
   ]
  },
  {
   "cell_type": "markdown",
   "metadata": {},
   "source": [
    "### S3 config variables"
   ]
  },
  {
   "cell_type": "code",
   "execution_count": null,
   "metadata": {},
   "outputs": [],
   "source": [
    "from getpass import getpass\n",
    "sourceendpointurl = 'https://storage.osparc.local' # this needs to have a prefix, i.e. https://\n",
    "sourcebucketname = 'master-simcore'\n",
    "sourcebucketaccess = 'testertester'\n",
    "sourcebucketsecret= 'testertester'"
   ]
  },
  {
   "cell_type": "markdown",
   "metadata": {},
   "source": [
    "## Begin: Main script\n",
    "### Import python mocules"
   ]
  },
  {
   "cell_type": "code",
   "execution_count": null,
   "metadata": {},
   "outputs": [],
   "source": [
    "# Vanilla Python\n",
    "import os\n",
    "import sys\n",
    "import json\n",
    "import copy\n",
    "import importlib\n",
    "import time\n",
    "import math\n",
    "from pathlib import Path\n",
    "from collections import Counter\n",
    "from datetime import datetime\n",
    "# S3\n",
    "import warnings\n",
    "import boto3\n",
    "from botocore.client import Config\n",
    "# pgSQL\n",
    "import sqlalchemy as db\n",
    "from sqlalchemy.orm import sessionmaker\n",
    "import psycopg2\n",
    "# Pandas and Widgets\n",
    "import ipywidgets as widgets\n",
    "from IPython.display import display\n",
    "import pandas as pd\n",
    "# tqdm progressbar\n",
    "from tqdm.notebook import tqdm\n",
    "# Osparc-Simcore\n",
    "import simcore_postgres_database\n",
    "from  simcore_postgres_database.models.projects import projects\n",
    "from simcore_postgres_database.models.users import users\n",
    "from simcore_postgres_database.models.file_meta_data import file_meta_data\n",
    "import urllib3\n"
   ]
  },
  {
   "cell_type": "markdown",
   "metadata": {},
   "source": [
    "### Connect to pgSQL"
   ]
  },
  {
   "cell_type": "code",
   "execution_count": null,
   "metadata": {},
   "outputs": [],
   "source": [
    "pgEngineURL= \"postgresql://{user}:{password}@{host}:{port}/{database}\".format(\n",
    "        user=PG_USER,\n",
    "        password=PG_PASSWORD,\n",
    "        database=PG_DB,\n",
    "        host=PG_ENDPOINT.split(\":\")[0],\n",
    "        port=int(PG_ENDPOINT.split(\":\")[1]),\n",
    "    )\n",
    "engine = db.create_engine(pgEngineURL)\n",
    "Session = sessionmaker(bind=engine)\n",
    "session = Session()\n",
    "metadata = db.MetaData()\n",
    "####\n",
    "# Get database tables as pandas df objects\n",
    "users_df = pd.read_sql_table(\n",
    "    'users',\n",
    "    con=engine\n",
    ")\n",
    "projects_df = pd.read_sql_table(\n",
    "    'projects',\n",
    "    con=engine\n",
    ")\n",
    "files_meta_data_df = pd.read_sql_table(\n",
    "    'file_meta_data',\n",
    "    con=engine\n",
    ")\n",
    "\n",
    "urllib3.disable_warnings(urllib3.exceptions.InsecureRequestWarning)\n"
   ]
  },
  {
   "cell_type": "markdown",
   "metadata": {},
   "source": [
    "### Iterate different files per projects and their versions"
   ]
  },
  {
   "cell_type": "code",
   "execution_count": null,
   "metadata": {},
   "outputs": [],
   "source": [
    "listProjectswithFiles = []\n",
    "\n",
    "result = session.query(projects, file_meta_data).join(file_meta_data, projects.c.uuid == file_meta_data.c.project_id).all()\n",
    "\n",
    "for row in result:\n",
    "    exist = False\n",
    "    for pro in listProjectswithFiles:\n",
    "        if pro[\"project_uuid\"] == row.uuid:\n",
    "            exist = True\n",
    "            list_files = pro[\"list_files\"]\n",
    "            list_files.append(row.object_name)\n",
    "            pro[\"list_files\"] = list_files\n",
    "            break\n",
    "    if exist == False:\n",
    "        proj = {\"project_uuid\" : row.uuid, \"project_title\" : row.name, \"project_last_update\" : row.last_change_date, \"project_own\" : row.prj_owner, \"total_size\" : 0, \"list_files\" : [row.object_name]}\n",
    "        listProjectswithFiles.append(proj)\n",
    "\n",
    "        \n",
    "# Now we look for the actual size of the files including all their versions\n",
    "\n",
    "# Configure source bucket\n",
    "# via https://docs.min.io/docs/how-to-use-aws-sdk-for-python-with-minio-server.html\n",
    "s3_client = boto3.client('s3',\n",
    "                    endpoint_url=sourceendpointurl,\n",
    "                    aws_access_key_id=sourcebucketaccess,\n",
    "                    aws_secret_access_key=sourcebucketsecret,\n",
    "                    config=Config(signature_version='s3v4'),\n",
    "                    region_name='us-east-1',\n",
    "                    verify=False)\n",
    "#src_bucket = s3_client.Bucket(sourcebucketname)\n",
    "\n",
    "\n",
    "for project in  listProjectswithFiles:\n",
    "    for file in project[\"list_files\"]:\n",
    "        try:\n",
    "            result = s3_client.list_object_versions(Bucket=sourcebucketname, Prefix=file)\n",
    "            if \"Versions\" in result:\n",
    "                for version in result[\"Versions\"]:\n",
    "                    project[\"total_size\"] = project[\"total_size\"] + int(version[\"Size\"])\n",
    "    \n",
    "        except Exception as e:\n",
    "            raise Exception(\"Exception \" +  e.__str__())\n",
    "\n",
    "\n"
   ]
  },
  {
   "cell_type": "markdown",
   "metadata": {},
   "source": [
    "### Order project by size"
   ]
  },
  {
   "cell_type": "code",
   "execution_count": null,
   "metadata": {},
   "outputs": [],
   "source": [
    "def convert_size(size_bytes):\n",
    "   if size_bytes == 0:\n",
    "       return \"0B\"\n",
    "   size_name = (\"B\", \"KB\", \"MB\", \"GB\", \"TB\", \"PB\", \"EB\", \"ZB\", \"YB\")\n",
    "   i = int(math.floor(math.log(size_bytes, 1024)))\n",
    "   p = math.pow(1024, i)\n",
    "   s = round(size_bytes / p, 2)\n",
    "   return \"%s %s\" % (s, size_name[i])\n",
    "\n",
    "listProjectswithFiles = sorted(listProjectswithFiles, key=lambda d: d['total_size'], reverse=True) \n",
    "\n",
    "for project in listProjectswithFiles:\n",
    "    project[\"total_size\"] = convert_size(project[\"total_size\"])\n",
    "    print(project[\"total_size\"])"
   ]
  },
  {
   "cell_type": "markdown",
   "metadata": {},
   "source": [
    "## Print results"
   ]
  },
  {
   "cell_type": "code",
   "execution_count": null,
   "metadata": {},
   "outputs": [],
   "source": [
    "print(\"Done!\")\n",
    "print(\"##########\")\n",
    "for project in listProjectswithFiles:\n",
    "    print(\"Total size : \" + str(project[\"total_size\"]) + \" - UUID : \" + str(project[\"project_uuid\"]) + \" - Last update : \" + str(project[\"project_last_update\"]) + \" - Owner : \" + str(project[\"project_own\"]))"
   ]
  },
  {
   "cell_type": "code",
   "execution_count": null,
   "metadata": {},
   "outputs": [],
   "source": []
  }
 ],
 "metadata": {
  "kernelspec": {
   "display_name": "",
   "language": "python",
   "name": ""
  },
  "language_info": {
   "codemirror_mode": {
    "name": "ipython",
    "version": 3
   },
   "file_extension": ".py",
   "mimetype": "text/x-python",
   "name": "python",
   "nbconvert_exporter": "python",
   "pygments_lexer": "ipython3",
   "version": "3.7.6"
  }
 },
 "nbformat": 4,
 "nbformat_minor": 4
}
