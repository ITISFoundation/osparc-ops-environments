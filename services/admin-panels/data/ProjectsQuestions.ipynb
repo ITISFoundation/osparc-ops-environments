{
 "cells": [
  {
   "cell_type": "markdown",
   "id": "4452d6a2-9239-434a-8035-70b04bd7d25b",
   "metadata": {},
   "source": [
    "## Investigate Projects"
   ]
  },
  {
   "cell_type": "markdown",
   "id": "0e92c738-de24-48c7-9ecf-f1dfbbf31c1f",
   "metadata": {},
   "source": [
    "**Author**: elisabettai </br>\n",
    "**Last change date**: 6th June 2023\n",
    "\n",
    "This notebook provides code snippets that answer useful questions about user projects."
   ]
  },
  {
   "cell_type": "markdown",
   "id": "2adddec5-613f-4140-af69-967be25c54a5",
   "metadata": {},
   "source": [
    "Access to the projects table in the DB, the result (`project_table`) can be reused to answer different questions."
   ]
  },
  {
   "cell_type": "code",
   "execution_count": 32,
   "id": "a30733d4-c418-44c6-80bf-6434d79279cf",
   "metadata": {},
   "outputs": [],
   "source": [
    "%%capture\n",
    "\n",
    "# Install dependencies\n",
    "import sys\n",
    "!{sys.executable} -m pip install sqlalchemy\n",
    "!{sys.executable} -m pip install psycopg2-binary\n",
    "!{sys.executable} -m pip install asyncio\n",
    "!{sys.executable} -m pip install aiopg\n",
    "!{sys.executable} -m pip install typer\n",
    "!{sys.executable} -m pip install pandas\n",
    "\n",
    "# Input access variables\n",
    "import sqlalchemy as db\n",
    "import os, sys, getpass\n",
    "\n",
    "\n",
    "PG_PASSWORD = os.environ.get('POSTGRES_PASSWORD')\n",
    "PG_ENDPOINT=os.environ.get('POSTGRES_ENDPOINT')\n",
    "PG_DB=os.environ.get('POSTGRES_DB')\n",
    "PG_USER=os.environ.get('POSTGRES_USER')\n",
    "\n",
    "# Get list of projects from the database\n",
    "pg_engine_url = \"postgresql://{user}:{password}@{host}:{port}/{database}\".format(\n",
    "        user=PG_USER,\n",
    "        password=PG_PASSWORD,\n",
    "        database=PG_DB,\n",
    "        host=PG_ENDPOINT.split(\":\")[0],\n",
    "        port=int(PG_ENDPOINT.split(\":\")[1]),\n",
    "    )\n",
    "\n",
    "engine = db.create_engine(pg_engine_url)\n",
    "connection = engine.connect()\n",
    "metadata = db.MetaData()\n",
    "projects_table = db.Table('projects', metadata, autoload=True, autoload_with=engine)"
   ]
  },
  {
   "cell_type": "markdown",
   "id": "ef083699-dcf6-4269-b8a5-b8cbff8ffc36",
   "metadata": {},
   "source": [
    "### **Question 1**: How many Studies/which percentage of them is shared (and not only private to the owner)?"
   ]
  },
  {
   "cell_type": "markdown",
   "id": "c6775b68-e0c1-4474-af49-e008f5f2681a",
   "metadata": {},
   "source": [
    "**Principle**: shared projects are the ones that have more than one entry in the `access_rights` column"
   ]
  },
  {
   "cell_type": "code",
   "execution_count": 30,
   "id": "a66b1cde-cfaf-48b2-9963-ff450c51475d",
   "metadata": {},
   "outputs": [
    {
     "name": "stdout",
     "output_type": "stream",
     "text": [
      "Answer: Out of 24176 Studies, 281 are shared. This corresponds to 1.2% of the Studies.\n"
     ]
    }
   ],
   "source": [
    "query = db.select([projects_table.c.access_rights])\n",
    "all_projects = engine.execute(query).fetchall()\n",
    "\n",
    "num_shared = len([x for x in all_projects if len(x[0]) > 1])\n",
    "num_projects = len(all_projects)\n",
    "perc_shared = num_shared/num_projects*100\n",
    "\n",
    "print(f\"Answer: Out of {num_projects} Studies, {num_shared} are shared. This corresponds to {round(perc_shared, 1)}% of the Studies.\")"
   ]
  },
  {
   "cell_type": "code",
   "execution_count": null,
   "id": "adbac55f-2331-460a-8885-f709a286fe08",
   "metadata": {},
   "outputs": [],
   "source": []
  }
 ],
 "metadata": {
  "kernelspec": {
   "display_name": "Python 3 (ipykernel)",
   "language": "python",
   "name": "python3"
  },
  "language_info": {
   "codemirror_mode": {
    "name": "ipython",
    "version": 3
   },
   "file_extension": ".py",
   "mimetype": "text/x-python",
   "name": "python",
   "nbconvert_exporter": "python",
   "pygments_lexer": "ipython3",
   "version": "3.10.5"
  }
 },
 "nbformat": 4,
 "nbformat_minor": 5
}
