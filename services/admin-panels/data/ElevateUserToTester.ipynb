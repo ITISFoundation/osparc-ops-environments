{
 "cells": [
  {
   "cell_type": "markdown",
   "metadata": {},
   "source": [
    "# Administration: Elevate User to Tester"
   ]
  },
  {
   "cell_type": "markdown",
   "metadata": {},
   "source": [
    "## Config: Endpoints and User Mail Address"
   ]
  },
  {
   "cell_type": "markdown",
   "metadata": {},
   "source": [
    "### Static configuration variables"
   ]
  },
  {
   "cell_type": "code",
   "execution_count": null,
   "metadata": {},
   "outputs": [],
   "source": [
    "userMail = \"kaiser@itis.swiss\""
   ]
  },
  {
   "cell_type": "markdown",
   "metadata": {},
   "source": [
    "## Clone oSparc Repo and install python dependencies"
   ]
  },
  {
   "cell_type": "code",
   "execution_count": null,
   "metadata": {},
   "outputs": [],
   "source": [
    "print(\"FYI: You can ignore even fatal errors in this section....\")\n",
    "!git clone https://github.com/ITISFoundation/osparc-simcore.git\n",
    "!python -m pip install sqlalchemy\n",
    "!python -m pip install psycopg2-binary"
   ]
  },
  {
   "cell_type": "markdown",
   "metadata": {},
   "source": [
    "## Fetching Information"
   ]
  },
  {
   "cell_type": "markdown",
   "metadata": {},
   "source": [
    "### Fetching Information: pgSQL Database"
   ]
  },
  {
   "cell_type": "code",
   "execution_count": null,
   "metadata": {},
   "outputs": [],
   "source": [
    "import sqlalchemy as db\n",
    "import psycopg2\n",
    "import os\n",
    "import json\n",
    "#######################\n",
    "osparcURL = \"https://\" + os.environ['MACHINE_FQDN']\n",
    "PG_PASSWORD = os.environ.get('POSTGRES_PASSWORD')\n",
    "PG_ENDPOINT=os.environ.get('POSTGRES_ENDPOINT')\n",
    "PG_DB=os.environ.get('POSTGRES_DB')\n",
    "PG_USER=os.environ.get('POSTGRES_USER')\n",
    "pgEngineURL= \"postgresql://{user}:{password}@{host}:{port}/{database}\".format(\n",
    "        user=PG_USER,\n",
    "        password=PG_PASSWORD,\n",
    "        database=PG_DB,\n",
    "        host=PG_ENDPOINT.split(\":\")[0],\n",
    "        port=int(PG_ENDPOINT.split(\":\")[1]),\n",
    "    )\n",
    "engine = db.create_engine(pgEngineURL)\n",
    "connection = engine.connect()\n",
    "metadata = db.MetaData()\n",
    "users = db.Table('users', metadata, autoload=True, autoload_with=engine)\n",
    "##########\n",
    "# Automatically building datestamp iterator for current invite:\n",
    "query = db.select([users]).where(users.c.email.like(\"%\" + userMail + \"%\"))\n",
    "ResultProxy = connection.execute(query)\n",
    "ResultSet = ResultProxy.fetchall()"
   ]
  },
  {
   "cell_type": "markdown",
   "metadata": {},
   "source": [
    "## Modifying Database: Elevate to TESTER"
   ]
  },
  {
   "cell_type": "code",
   "execution_count": null,
   "metadata": {},
   "outputs": [],
   "source": [
    "#Inserting new record into database\n",
    "query = users.update().\\\n",
    "       values(role=\"TESTER\").\\\n",
    "       where(users.c.email == userMail)\n",
    "ResultProxy = connection.execute(query)"
   ]
  },
  {
   "cell_type": "code",
   "execution_count": null,
   "metadata": {},
   "outputs": [],
   "source": []
  }
 ],
 "metadata": {
  "kernelspec": {
   "display_name": "",
   "language": "python",
   "name": ""
  },
  "language_info": {
   "codemirror_mode": {
    "name": "ipython",
    "version": 3
   },
   "file_extension": ".py",
   "mimetype": "text/x-python",
   "name": "python",
   "nbconvert_exporter": "python",
   "pygments_lexer": "ipython3",
   "version": "3.10.5"
  }
 },
 "nbformat": 4,
 "nbformat_minor": 4
}
