{
 "cells": [
  {
   "cell_type": "markdown",
   "metadata": {},
   "source": [
    "# Investigate dynamic services"
   ]
  },
  {
   "cell_type": "markdown",
   "metadata": {},
   "source": [
    "## Setup"
   ]
  },
  {
   "cell_type": "code",
   "execution_count": null,
   "metadata": {},
   "outputs": [],
   "source": [
    "%%capture\n",
    "!{sys.executable} -m pip install httpx pydantic\n",
    "!{sys.executable} -m pip install pandas"
   ]
  },
  {
   "cell_type": "code",
   "execution_count": null,
   "metadata": {},
   "outputs": [],
   "source": [
    "from uuid import UUID\n",
    "\n",
    "import os\n",
    "import httpx\n",
    "from pydantic import validate_arguments\n",
    "\n",
    "\n",
    "def check():\n",
    "    r = httpx.get(\"http://\" + os.environ.get('PREFIX_STACK_NAME') + \"_director:8080/v0/\")\n",
    "    return r\n",
    "\n",
    "\n",
    "@validate_arguments\n",
    "def get_service(service_id: str):\n",
    "    r = httpx.get(\n",
    "        \"http://\" + os.environ.get('PREFIX_STACK_NAME') + f\"_director:8080/v0/running_interactive_services/{service_id}\"\n",
    "    )\n",
    "    return r\n",
    "\n",
    "\n",
    "@validate_arguments\n",
    "def list_services(user_id: int, project_id: UUID):\n",
    "    r = httpx.get(\n",
    "        \"http://\" + os.environ.get('PREFIX_STACK_NAME') + f\"_director:8080/v0/running_interactive_services\",\n",
    "        params={\"user_id\": user_id, \"project_id\": project_id},\n",
    "    )\n",
    "    return r\n",
    "\n",
    "\n",
    "@validate_arguments\n",
    "def delete_service(service_id: str, save_state: bool):\n",
    "    r = httpx.delete(\n",
    "        \"http://\" + os.environ.get('PREFIX_STACK_NAME') + \"_director:8080/v0/running_interactive_services/{service_id}\",\n",
    "        params={\"save_state\": save_state},\n",
    "    )\n",
    "    return r"
   ]
  },
  {
   "cell_type": "code",
   "execution_count": null,
   "metadata": {},
   "outputs": [],
   "source": [
    "import pandas as pd\n",
    "\n",
    "\n",
    "def to_datafield(r: httpx.Response):\n",
    "    df = pd.json_normalize(r.json()[\"data\"])\n",
    "    return df"
   ]
  },
  {
   "cell_type": "code",
   "execution_count": null,
   "metadata": {},
   "outputs": [],
   "source": [
    "import httpx\n",
    "\n",
    "r = check()\n",
    "r.url, r.status_code, r.text"
   ]
  },
  {
   "cell_type": "markdown",
   "metadata": {},
   "source": [
    "# Investigate *running* dynamic services\n",
    "\n"
   ]
  },
  {
   "cell_type": "markdown",
   "metadata": {},
   "source": [
    "## For a user & project, list all the dynamic services"
   ]
  },
  {
   "cell_type": "code",
   "execution_count": null,
   "metadata": {},
   "outputs": [],
   "source": [
    "user_id = 72952\n",
    "project_id = \"67406d1c-31af-11ec-8033-02420a0b2de3\"\n",
    "\n",
    "\n",
    "r = list_services(user_id, project_id)\n",
    "r.url, r.status_code"
   ]
  },
  {
   "cell_type": "code",
   "execution_count": null,
   "metadata": {},
   "outputs": [],
   "source": [
    "df = to_datafield(r)\n",
    "df.info()"
   ]
  },
  {
   "cell_type": "code",
   "execution_count": null,
   "metadata": {},
   "outputs": [],
   "source": [
    "df[[\"service_uuid\", \"service_key\", \"service_version\", \"service_state\"]]"
   ]
  },
  {
   "cell_type": "markdown",
   "metadata": {},
   "source": [
    "## Given a service, what is the project it belongs to and who is the owner?\n"
   ]
  },
  {
   "cell_type": "code",
   "execution_count": null,
   "metadata": {},
   "outputs": [],
   "source": [
    "service_id = \"88fabeb4-0a67-4514-a81d-6dff688b60bf\"\n",
    "\n",
    "r = get_service(service_id)\n",
    "d = r.json()[\"data\"]\n",
    "d"
   ]
  },
  {
   "cell_type": "code",
   "execution_count": null,
   "metadata": {},
   "outputs": [],
   "source": [
    "r = list_services(user_id=d[\"user_id\"], project_id=d[\"project_id\"])\n",
    "df = to_datafield(r)\n",
    "df[[\"service_uuid\", \"service_key\", \"service_version\", \"service_state\"]]"
   ]
  }
 ],
 "metadata": {
  "kernelspec": {
   "display_name": "",
   "language": "python",
   "name": ""
  },
  "language_info": {
   "codemirror_mode": {
    "name": "ipython",
    "version": 3
   },
   "file_extension": ".py",
   "mimetype": "text/x-python",
   "name": "python",
   "nbconvert_exporter": "python",
   "pygments_lexer": "ipython3",
   "version": "3.9.13"
  },
  "vscode": {
   "interpreter": {
    "hash": "ebb6b63aab8ec4979e521bd28b1d3b4b2d7c802a1bf05024bab6e8eba400a1f6"
   }
  }
 },
 "nbformat": 4,
 "nbformat_minor": 4
}
