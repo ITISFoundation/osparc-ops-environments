{
 "cells": [
  {
   "cell_type": "markdown",
   "id": "e979aef0",
   "metadata": {},
   "source": [
    "# Tool for Sending Logged-in Users a Reminder to Log Out for Maintenance"
   ]
  },
  {
   "cell_type": "code",
   "execution_count": null,
   "id": "04f6daff",
   "metadata": {},
   "outputs": [],
   "source": [
    "%%capture\n",
    "# requirement for emails\n",
    "!{sys.executable} -m pip install secure-smtplib \n",
    "\n",
    "# requirements for database access\n",
    "!git clone https://github.com/ITISFoundation/osparc-simcore.git\n",
    "!{sys.executable} -m pip install sqlalchemy\n",
    "!{sys.executable} -m pip install psycopg2-binary\n",
    "!{sys.executable} -m pip install pydantic aioredis\n",
    "!{sys.executable} -m pip install pytz\n",
    "\n",
    "import os\n",
    "import datetime\n",
    "import pytz\n",
    "from pytz import timezone\n",
    "zurichTZ = timezone('Europe/Zurich')\n",
    "from dateutil.relativedelta import relativedelta"
   ]
  },
  {
   "cell_type": "code",
   "execution_count": null,
   "id": "1da0279c-8a89-4c00-ba81-f91273f49416",
   "metadata": {},
   "outputs": [],
   "source": [
    "# A list of user IDs you would like to send emails to - these can be found from redis commander\n",
    "excluded_users = [\"kuster@itis.swiss\", \"@itis.testing\"] # can be only aprt of a mail address \n",
    "\n",
    "# Provide the time of maintenance\n",
    "# datetime(year, month, day, hour, minute, second)\n",
    "maintenance_time = datetime.datetime(2022, 8, 15, 17, 15, 0, tzinfo=zurichTZ)\n",
    "\n",
    "productString = \"o²S²PARC / S4L-Web / TI-Planning\"\n",
    "deploymentString = os.environ.get('DEPLOYMENT_FQDNS')"
   ]
  },
  {
   "cell_type": "code",
   "execution_count": null,
   "id": "9e2882a0-e548-4cff-aa28-b335e8c067e6",
   "metadata": {},
   "outputs": [],
   "source": [
    "\n",
    "# Compute timing inforation\n",
    "utc = pytz.timezone('UTC')\n",
    "now = utc.localize(datetime.datetime.utcnow())\n",
    "attrs = ['years', 'months', 'days', 'hours', 'minutes', 'seconds']\n",
    "human_readable = lambda delta: ['%d %s' % (getattr(delta, attr), attr if getattr(delta, attr) > 1 else attr[:-1]) for attr in attrs if getattr(delta, attr)]\n",
    "assert(maintenance_time > now)\n",
    "timeDiff = human_readable(relativedelta(seconds=(int(maintenance_time.strftime('%s')) - int(now.strftime('%s')))))\n",
    "maintenanceInStr = \" \".join(timeDiff[:2])\n",
    "print(\"Maintenance in: \",maintenanceInStr)\n",
    "maintenance_timeStr = maintenance_time.strftime('%H:%M')\n",
    "print(\"Maintenance at: \",maintenance_timeStr)\n",
    "maintenance_dateStr = maintenance_time.strftime('%A %d. %B %Y')\n",
    "print(\"Maintenance on: \",maintenance_dateStr)"
   ]
  },
  {
   "cell_type": "code",
   "execution_count": null,
   "id": "1c9179e6-e8fd-4802-b6d8-dd00d9c246d6",
   "metadata": {},
   "outputs": [],
   "source": [
    "# REDIS\n",
    "# from settings_library.redis import RedisSettings\n",
    "from pydantic.networks import RedisDsn\n",
    "import aioredis\n",
    "\n",
    "REDIS_HOST = os.environ.get('REDIS_HOST')\n",
    "REDIS_PORT = os.environ.get('REDIS_PORT')\n",
    "REDIS_DB = \"0\"\n",
    "REDIS_USER = None\n",
    "REDIS_PASSWORD = None\n",
    "\n",
    "user_ids_projectOpen = []\n",
    "\n",
    "settings = RedisDsn.build(\n",
    "            scheme=\"redis\",\n",
    "            user = REDIS_USER or None,\n",
    "            password = REDIS_PASSWORD if REDIS_PASSWORD else None,\n",
    "            host = REDIS_HOST,\n",
    "            port = REDIS_PORT,\n",
    "            db = REDIS_DB\n",
    "        )\n",
    "\n",
    "# settings = RedisSettings() # This captures automatically env vars\n",
    "\n",
    "client = aioredis.from_url(\n",
    "                    settings, encoding=\"utf-8\", decode_responses=True\n",
    "                )\n",
    "await client.ping()\n",
    "listOfResourceKeys = [ hash_key async for hash_key in client.scan_iter(match=f\"*\") if ':resources' in hash_key]\n",
    "#listOfResourceValues = [await client.hgetall(hash_key) for hash_key in listOfResourceKeys]\n",
    "for i in listOfResourceKeys:\n",
    "    currentValues = await client.hgetall(i)\n",
    "    if 'socket_id' in currentValues and 'project_id' in currentValues: # user has a proejct open\n",
    "        currentUserID = int(i.split(':')[0].split('user_id=')[1])\n",
    "        user_ids_projectOpen.append(currentUserID)"
   ]
  },
  {
   "cell_type": "markdown",
   "id": "2f5266c3",
   "metadata": {},
   "source": [
    "## Access the Database to Find Names and Emails"
   ]
  },
  {
   "cell_type": "code",
   "execution_count": null,
   "id": "c2041733",
   "metadata": {},
   "outputs": [],
   "source": [
    "import sqlalchemy as db\n",
    "import psycopg2\n",
    "import os\n",
    "import sys\n",
    "import json\n",
    "import importlib\n",
    "from pathlib import Path\n",
    "#########################################\n",
    "#######################\n",
    "PG_PASSWORD = os.environ.get('POSTGRES_PASSWORD')\n",
    "PG_ENDPOINT=os.environ.get('POSTGRES_ENDPOINT')\n",
    "PG_DB=os.environ.get('POSTGRES_DB')\n",
    "PG_USER=os.environ.get('POSTGRES_USER')\n",
    "pgEngineURL= \"postgresql://{user}:{password}@{host}:{port}/{database}\".format(\n",
    "        user=PG_USER,\n",
    "        password=PG_PASSWORD,\n",
    "        database=PG_DB,\n",
    "        host=PG_ENDPOINT.split(\":\")[0],\n",
    "        port=int(PG_ENDPOINT.split(\":\")[1]),\n",
    "    )\n",
    "engine = db.create_engine(pgEngineURL)\n",
    "connection = engine.connect()\n",
    "metadata = db.MetaData()\n",
    "user_table = db.Table('users', metadata, autoload=True, autoload_with=engine)"
   ]
  },
  {
   "cell_type": "markdown",
   "id": "e82cb019",
   "metadata": {},
   "source": [
    "## Find These Users"
   ]
  },
  {
   "cell_type": "code",
   "execution_count": null,
   "id": "e13d66cc",
   "metadata": {},
   "outputs": [],
   "source": [
    "name_list = []\n",
    "email_list = []\n",
    "\n",
    "for user in user_ids_projectOpen:\n",
    "    query = db.select([user_table]).where(user_table.c.id==user)\n",
    "    result_proxy = connection.execute(query)\n",
    "    result_set = result_proxy.fetchall()\n",
    "    if result_set:\n",
    "        user_data = dict(result_set[0])\n",
    "        userIsExcluded = False\n",
    "        for excluded_mail in excluded_users:\n",
    "            if excluded_mail in user_data[\"email\"]:\n",
    "                userIsExcluded = True\n",
    "                break\n",
    "        if not userIsExcluded:\n",
    "            name_list.append(user_data[\"name\"])\n",
    "            email_list.append(user_data[\"email\"])\n",
    "    else:\n",
    "        print(\"User ID:\" + str(user) + \" not found in database\")"
   ]
  },
  {
   "cell_type": "markdown",
   "id": "ac412dc7",
   "metadata": {},
   "source": [
    "## Log into Mail Server to Send Emails"
   ]
  },
  {
   "cell_type": "code",
   "execution_count": null,
   "id": "30f185b9",
   "metadata": {},
   "outputs": [],
   "source": [
    "MACHINE_FQDN = os.environ.get('MACHINE_FQDN')\n",
    "SMTP_HOST = os.environ.get('SMTP_HOST')\n",
    "SMTP_PORT = os.environ.get('SMTP_PORT')\n",
    "SMTP_USERNAME = os.environ.get('SMTP_USERNAME')\n",
    "SMTP_PASSWORD =  os.environ.get('SMTP_PASSWORD')\n"
   ]
  },
  {
   "cell_type": "markdown",
   "id": "bbb60219",
   "metadata": {},
   "source": [
    "## Send a Nice Email to Everyone Logged In"
   ]
  },
  {
   "cell_type": "code",
   "execution_count": null,
   "id": "d3575fa4",
   "metadata": {},
   "outputs": [],
   "source": [
    "## =======  For debugging =======\n",
    "\n",
    "# name_list = [\"Friend\", \"Frenemy\"]\n",
    "# email_list = [\"something@itis.swiss\", \"somethingelse@gmail.com\"]"
   ]
  },
  {
   "cell_type": "code",
   "execution_count": null,
   "id": "b7762533",
   "metadata": {},
   "outputs": [],
   "source": [
    "print(\"You are about to send emails to: \")\n",
    "print('\\n'.join(email_list))\n",
    "print(\"\\nPlease be sure before continuing...\")"
   ]
  },
  {
   "cell_type": "code",
   "execution_count": null,
   "id": "eb708812",
   "metadata": {},
   "outputs": [],
   "source": [
    "import smtplib, ssl\n",
    "\n",
    "context = ssl.create_default_context()\n",
    "with smtplib.SMTP(SMTP_HOST, SMTP_PORT) as server:\n",
    "    server.ehlo()  # Can be omitted\n",
    "    server.starttls(context=context)\n",
    "    server.ehlo()  # Can be omitted\n",
    "    server.login(SMTP_USERNAME, SMTP_PASSWORD)\n",
    "    for name, email in zip(name_list, email_list):\n",
    "        message = \"\"\"Subject: \"\"\" + productString + \"\"\" Maintenance Warning\n",
    "\n",
    "\\nDear user \"\"\" + name + \"\"\",\\n\n",
    "You are currently logged in with an account on: \"\"\" + str(deploymentString).replace(',',' /') +\"\"\".\n",
    "Please note that we will be doing a routine maintenance on the platform in \"\"\"\\\n",
    "+ str(maintenanceInStr) + \"\"\". To keep your work safe, we recommend\n",
    "that you save your studies and log out of  \"\"\" + str(deploymentString) +\"\"\". Apologies for\n",
    "any inconvenience.\n",
    "\n",
    "Cheers,\n",
    "your friendly  \"\"\" + str(deploymentString) +\"\"\" team\"\"\"\n",
    "\n",
    "        server.sendmail(SMTP_USERNAME, email, message.encode('utf-8'))"
   ]
  }
 ],
 "metadata": {
  "kernelspec": {
   "display_name": "",
   "language": "python",
   "name": ""
  },
  "language_info": {
   "codemirror_mode": {
    "name": "ipython",
    "version": 3
   },
   "file_extension": ".py",
   "mimetype": "text/x-python",
   "name": "python",
   "nbconvert_exporter": "python",
   "pygments_lexer": "ipython3",
   "version": "3.9.13"
  },
  "vscode": {
   "interpreter": {
    "hash": "ebb6b63aab8ec4979e521bd28b1d3b4b2d7c802a1bf05024bab6e8eba400a1f6"
   }
  }
 },
 "nbformat": 4,
 "nbformat_minor": 5
}
